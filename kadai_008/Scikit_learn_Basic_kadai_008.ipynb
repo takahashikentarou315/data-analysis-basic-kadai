{
  "nbformat": 4,
  "nbformat_minor": 0,
  "metadata": {
    "colab": {
      "provenance": []
    },
    "kernelspec": {
      "name": "python3",
      "display_name": "Python 3"
    },
    "language_info": {
      "name": "python"
    }
  },
  "cells": [
    {
      "cell_type": "code",
      "source": [
        "#8章Scikit-learn_Basic_kadai_008\n",
        "from sklearn.datasets import load_wine #sklernライブラリのdatasetsモジュールのload_wineメソッドをインポート(サンプルデータ取得)(学習用として用意されているメソッドを使用する)\n",
        "import pandas as pd #pandasライブラリを変数pdでインポート(DataFrameを使用する)\n",
        "from sklearn.model_selection import train_test_split #sklernライブラリのmodel_selectionモジュールのtrain_test_split関数をインポート(データを分割させる関数を使用)\n",
        "#from sklearn.tree import DecisionTreeClassifier #sklernライブラリのtreeモジュールのDecisionTreeClassifierクラスをインポート(予測モデル決定木(tree)モジュールの決定木クラス(DecisionTreeClassifier)をインスタンス化に使用)\n",
        "\n",
        "#ランダムフォレストに変更\n",
        "from sklearn.ensemble import RandomForestClassifier #sklernライブラリのensembleモジュールのRandomForestClassifierクラスをインポート(予測モデルensembleモジュールのランダムフォレスト(RandomForestClassifier)をインスタンス化に使用)\n",
        "\n",
        "from sklearn.metrics import accuracy_score #sklernライブラリのmetricsモジュールのaccuracy_score関数をインポート(評価で正解率をだす関数を使用)\n",
        "import numpy as np #numpyライブラリを変数npでインポート(ダミーデータを用意するためnumpyを使用する)\n",
        "\n",
        "#1,サンプルデータの取得\n",
        "dataset = load_wine() #load_wineを変数datasetへ代入\n",
        "dataset #load_wineメソッドの中身を出力\n",
        "dataset.data #load_wineメソッドのワインの成分データのみ(連想配列のみ)を出力\n",
        "dataset.feature_names #要素の名称(要素名)を出力\n",
        "df = pd.DataFrame(data=dataset.data,columns=dataset.feature_names) #DataFrame作成、ワインの成分データ(連想配列)と要素名をそれぞれセット\n",
        "df.head() #先頭5行を出力\n",
        "dataset.target #ワインの種別№を確認\n",
        "df['category'] = dataset.target #category列(ワインの種別№)を追加\n",
        "df.head() #先頭5行を出力\n",
        "df.shape #データ数取得 (178行, 14列)　(要素名13要素とワインの成分データ178行)\n",
        "#2,サンプルデータの分割\n",
        "x = dataset.data #説明変数に代入(連想配列の成分データ(大元の基本データ))\n",
        "y = dataset.target #目的変数に代入(ワインの種別№(category列))\n",
        "train_test_split(x,y,test_size=0.3,random_state=5) #train_test_split関数でdata(大元の基本データ)とtarget(種別№(category列))のそれぞれに、学習データ(70％)とテストデータ(30％)にそれぞれ分割する。割合はテストデータ側を30％指定。random_stateで選出レコードを固定\n",
        "x_train,x_test,y_train,y_test = train_test_split(x,y,test_size=0.3,random_state=5) #分割したデータをそれぞれの変数X_train,X_test,y_train,y_testへ代入\n",
        "print(x.shape,x_train.shape,x_test.shape,y.shape,y_train.shape,y_test.shape) #7:3(テストデータ側が30％)になっているかそれぞれの変数のレコード数を確認 (178, 13) (124, 13) (54, 13) (178,) (124,) (54,)\n",
        "\n",
        "#3,予測モデルのインスタンス化\n",
        "model = RandomForestClassifier(random_state=3) #ランダムフォレストクラスをインスタンス化(ランダムレコードなし指定)\n",
        "\n",
        "#4,予測モデルの学習\n",
        "model.fit(x_train,y_train) #学習させるメソッドfit()に説明変数x(ワインの成分(大元の基本データ))の学習データ(70％)と、目的変数y(種別№(category列))の学習データ(70％)を引数で指定。\n",
        "#5,予測モデルの評価\n",
        "y_pred = model.predict(x_test) #予測値を出すメソッドpredict()に説明変数x(ワインの成分(大元の基本データ))のテストデータ(30％)を指定\n",
        "y_pred #予測値を出力(テストデータ30％の予測値)\n",
        "y_test #実際の値を出力(テストデータ30％の種別№)\n",
        "accuracy_score(y_test,y_pred) #accuracy_score関数で実際値といくつヒットしてるかで正解率を出す。引数に実際値と予測値(予測モデルの結果データ)を指定　DecisionTreeClassifier(決定木)の場合0.9259259259259259\n",
        "model.score(x_test,y_test) #正解率は予測モデルのscoreメソッドでも可能。引数にx(連想配列の成分データ)とy(ワインの種別№)、両方のテストデータ(30％)を指定。(予測モデルのテストデータで正解率を出す)\n",
        "#6,予測(学習させた？予測モデルで、種別№を予測(算出？？？))\n",
        "x_real = np.array([[13,1.6,2.2,16,118,2.6,2.9,0.21,1.6,5.8,0.92,3.2,1011], #種別№を予測(算出)させるためのダミーデータ用意\n",
        "                   [12,2.8,2.2,18,100,2.5,2.3,0.25,2.0,2.2,1.15,3.3,1000],\n",
        "                   [14,4.1,2.7,24,101,1.6,0.7,0.53,1.4,9.4,0.61,1.6,560]])\n",
        "model.predict(x_real) #予測値を出すメソッドpredict()にx_realを指定(種別№を予測(算出)) array([0, 1, 2])\n",
        "\n",
        "\n"
      ],
      "metadata": {
        "colab": {
          "base_uri": "https://localhost:8080/"
        },
        "outputId": "405c99f7-06ec-4903-c16e-600f7024b7b5",
        "id": "GHdBlNvHGaaB"
      },
      "execution_count": 8,
      "outputs": [
        {
          "output_type": "stream",
          "name": "stdout",
          "text": [
            "(178, 13) (124, 13) (54, 13) (178,) (124,) (54,)\n"
          ]
        },
        {
          "output_type": "execute_result",
          "data": {
            "text/plain": [
              "array([0, 1, 2])"
            ]
          },
          "metadata": {},
          "execution_count": 8
        }
      ]
    }
  ]
}