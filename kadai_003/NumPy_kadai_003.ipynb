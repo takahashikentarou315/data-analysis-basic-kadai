{
  "nbformat": 4,
  "nbformat_minor": 0,
  "metadata": {
    "colab": {
      "provenance": []
    },
    "kernelspec": {
      "name": "python3",
      "display_name": "Python 3"
    },
    "language_info": {
      "name": "python"
    }
  },
  "cells": [
    {
      "cell_type": "code",
      "source": [
        "#機械学習でデータ分析しよう\n",
        "#NumPy課題003\n",
        "import numpy as np #NumPyをインポートしオブジェクト変数npとする\n",
        "\n",
        "a = np.array([[0,1],[2,3],[4,5]]) #3次元配列要素数2用意\n",
        "b = np.array([[0,1,2,3],[4,5,6,7]]) #2次元配列要素数4用意\n",
        "np.dot(a,b) #行列の積算出と出力　array([[ 4,  5,  6,  7],[12, 17, 22, 27],[20, 29, 38, 47]])\n",
        "multi_array = np.dot(a,b) #行列の積取得\n",
        "multi_array #行列の積出力\n",
        "multi_array.max() #最大値算出と出力 47"
      ],
      "metadata": {
        "colab": {
          "base_uri": "https://localhost:8080/"
        },
        "id": "M1mm5J96LH0V",
        "outputId": "73388a41-f842-4a14-8a65-9e8b4337ce30"
      },
      "execution_count": null,
      "outputs": [
        {
          "output_type": "execute_result",
          "data": {
            "text/plain": [
              "47"
            ]
          },
          "metadata": {},
          "execution_count": 39
        }
      ]
    }
  ]
}